{
  "nbformat": 4,
  "nbformat_minor": 0,
  "metadata": {
    "colab": {
      "provenance": []
    },
    "kernelspec": {
      "name": "python3",
      "display_name": "Python 3"
    },
    "language_info": {
      "name": "python"
    }
  },
  "cells": [
    {
      "cell_type": "markdown",
      "source": [
        "# EDA"
      ],
      "metadata": {
        "id": "taxsOQt4xTCP"
      }
    },
    {
      "cell_type": "markdown",
      "source": [
        "## STEP 1. Import libraries and load data"
      ],
      "metadata": {
        "id": "85j9G50uxYkr"
      }
    },
    {
      "cell_type": "code",
      "source": [
        "!sudo apt-get install -y fonts-nanum\n",
        "!sudo fc-cache -fv\n",
        "!rm ~/.cache/matplotlib -rf"
      ],
      "metadata": {
        "colab": {
          "base_uri": "https://localhost:8080/"
        },
        "id": "WrHQWYHD0kO0",
        "outputId": "4a0ddd41-4ce3-4242-f86c-632a2a838681"
      },
      "execution_count": 60,
      "outputs": [
        {
          "output_type": "stream",
          "name": "stdout",
          "text": [
            "Reading package lists... Done\n",
            "Building dependency tree... Done\n",
            "Reading state information... Done\n",
            "fonts-nanum is already the newest version (20200506-1).\n",
            "0 upgraded, 0 newly installed, 0 to remove and 49 not upgraded.\n",
            "/usr/share/fonts: caching, new cache contents: 0 fonts, 1 dirs\n",
            "/usr/share/fonts/truetype: caching, new cache contents: 0 fonts, 3 dirs\n",
            "/usr/share/fonts/truetype/humor-sans: caching, new cache contents: 1 fonts, 0 dirs\n",
            "/usr/share/fonts/truetype/liberation: caching, new cache contents: 16 fonts, 0 dirs\n",
            "/usr/share/fonts/truetype/nanum: caching, new cache contents: 12 fonts, 0 dirs\n",
            "/usr/local/share/fonts: caching, new cache contents: 0 fonts, 0 dirs\n",
            "/root/.local/share/fonts: skipping, no such directory\n",
            "/root/.fonts: skipping, no such directory\n",
            "/usr/share/fonts/truetype: skipping, looped directory detected\n",
            "/usr/share/fonts/truetype/humor-sans: skipping, looped directory detected\n",
            "/usr/share/fonts/truetype/liberation: skipping, looped directory detected\n",
            "/usr/share/fonts/truetype/nanum: skipping, looped directory detected\n",
            "/var/cache/fontconfig: cleaning cache directory\n",
            "/root/.cache/fontconfig: not cleaning non-existent cache directory\n",
            "/root/.fontconfig: not cleaning non-existent cache directory\n",
            "fc-cache: succeeded\n"
          ]
        }
      ]
    },
    {
      "cell_type": "code",
      "execution_count": 61,
      "metadata": {
        "id": "DD3jLogoaAPF"
      },
      "outputs": [],
      "source": [
        "import pandas as pd\n",
        "import numpy as np\n",
        "import matplotlib.pyplot as plt\n",
        "import seaborn as sns\n",
        "\n",
        "plt.rc('font', family='NanumBarunGothic')\n",
        "plt.rcParams['axes.unicode_minus'] =False"
      ]
    },
    {
      "cell_type": "code",
      "source": [
        "data = pd.read_excel('/content/경로별_소요시간_20241202.xlsx')"
      ],
      "metadata": {
        "id": "XecR__4qxnav"
      },
      "execution_count": 62,
      "outputs": []
    },
    {
      "cell_type": "markdown",
      "source": [
        "## STEP2. Inspect the data"
      ],
      "metadata": {
        "id": "qGLiU0zuySI9"
      }
    },
    {
      "cell_type": "markdown",
      "source": [
        "이 테이블은 센터원부터 코엑스 사이의 경로유형, 시간, 날짜 와 같은 세부 정보를 포함하고 있다.\n",
        "\n",
        "\n",
        "*   날짜: 2024-11-01 ~ 2024-11-28\n",
        "*   시간: 00:00라면 0으로 표시, 12:00라면 1200으로 표시(00:00~23:55)\n",
        "*   경로 유형: 센터원 to 코엑스 대표 경로 3가지(A, B, C)\n",
        "*   소요시간: 센터원 to 코엑스 소요시간(분)\n"
      ],
      "metadata": {
        "id": "QW5YC3xHKvG_"
      }
    },
    {
      "cell_type": "code",
      "source": [
        "data.head()"
      ],
      "metadata": {
        "colab": {
          "base_uri": "https://localhost:8080/",
          "height": 206
        },
        "id": "NU_r_d5cxzd4",
        "outputId": "c783e49e-fe67-4ffb-e3ab-6254baae77f8"
      },
      "execution_count": 63,
      "outputs": [
        {
          "output_type": "execute_result",
          "data": {
            "text/plain": [
              "         날짜  시간 경로유형       소요시간\n",
              "0  20241101   0    A  16.310933\n",
              "1  20241101   0    B  20.241982\n",
              "2  20241101   0    C  22.631307\n",
              "3  20241101   5    A  16.317805\n",
              "4  20241101   5    B  20.703033"
            ],
            "text/html": [
              "\n",
              "  <div id=\"df-2987e8ac-c0fc-4266-8b45-a2f9bb444807\" class=\"colab-df-container\">\n",
              "    <div>\n",
              "<style scoped>\n",
              "    .dataframe tbody tr th:only-of-type {\n",
              "        vertical-align: middle;\n",
              "    }\n",
              "\n",
              "    .dataframe tbody tr th {\n",
              "        vertical-align: top;\n",
              "    }\n",
              "\n",
              "    .dataframe thead th {\n",
              "        text-align: right;\n",
              "    }\n",
              "</style>\n",
              "<table border=\"1\" class=\"dataframe\">\n",
              "  <thead>\n",
              "    <tr style=\"text-align: right;\">\n",
              "      <th></th>\n",
              "      <th>날짜</th>\n",
              "      <th>시간</th>\n",
              "      <th>경로유형</th>\n",
              "      <th>소요시간</th>\n",
              "    </tr>\n",
              "  </thead>\n",
              "  <tbody>\n",
              "    <tr>\n",
              "      <th>0</th>\n",
              "      <td>20241101</td>\n",
              "      <td>0</td>\n",
              "      <td>A</td>\n",
              "      <td>16.310933</td>\n",
              "    </tr>\n",
              "    <tr>\n",
              "      <th>1</th>\n",
              "      <td>20241101</td>\n",
              "      <td>0</td>\n",
              "      <td>B</td>\n",
              "      <td>20.241982</td>\n",
              "    </tr>\n",
              "    <tr>\n",
              "      <th>2</th>\n",
              "      <td>20241101</td>\n",
              "      <td>0</td>\n",
              "      <td>C</td>\n",
              "      <td>22.631307</td>\n",
              "    </tr>\n",
              "    <tr>\n",
              "      <th>3</th>\n",
              "      <td>20241101</td>\n",
              "      <td>5</td>\n",
              "      <td>A</td>\n",
              "      <td>16.317805</td>\n",
              "    </tr>\n",
              "    <tr>\n",
              "      <th>4</th>\n",
              "      <td>20241101</td>\n",
              "      <td>5</td>\n",
              "      <td>B</td>\n",
              "      <td>20.703033</td>\n",
              "    </tr>\n",
              "  </tbody>\n",
              "</table>\n",
              "</div>\n",
              "    <div class=\"colab-df-buttons\">\n",
              "\n",
              "  <div class=\"colab-df-container\">\n",
              "    <button class=\"colab-df-convert\" onclick=\"convertToInteractive('df-2987e8ac-c0fc-4266-8b45-a2f9bb444807')\"\n",
              "            title=\"Convert this dataframe to an interactive table.\"\n",
              "            style=\"display:none;\">\n",
              "\n",
              "  <svg xmlns=\"http://www.w3.org/2000/svg\" height=\"24px\" viewBox=\"0 -960 960 960\">\n",
              "    <path d=\"M120-120v-720h720v720H120Zm60-500h600v-160H180v160Zm220 220h160v-160H400v160Zm0 220h160v-160H400v160ZM180-400h160v-160H180v160Zm440 0h160v-160H620v160ZM180-180h160v-160H180v160Zm440 0h160v-160H620v160Z\"/>\n",
              "  </svg>\n",
              "    </button>\n",
              "\n",
              "  <style>\n",
              "    .colab-df-container {\n",
              "      display:flex;\n",
              "      gap: 12px;\n",
              "    }\n",
              "\n",
              "    .colab-df-convert {\n",
              "      background-color: #E8F0FE;\n",
              "      border: none;\n",
              "      border-radius: 50%;\n",
              "      cursor: pointer;\n",
              "      display: none;\n",
              "      fill: #1967D2;\n",
              "      height: 32px;\n",
              "      padding: 0 0 0 0;\n",
              "      width: 32px;\n",
              "    }\n",
              "\n",
              "    .colab-df-convert:hover {\n",
              "      background-color: #E2EBFA;\n",
              "      box-shadow: 0px 1px 2px rgba(60, 64, 67, 0.3), 0px 1px 3px 1px rgba(60, 64, 67, 0.15);\n",
              "      fill: #174EA6;\n",
              "    }\n",
              "\n",
              "    .colab-df-buttons div {\n",
              "      margin-bottom: 4px;\n",
              "    }\n",
              "\n",
              "    [theme=dark] .colab-df-convert {\n",
              "      background-color: #3B4455;\n",
              "      fill: #D2E3FC;\n",
              "    }\n",
              "\n",
              "    [theme=dark] .colab-df-convert:hover {\n",
              "      background-color: #434B5C;\n",
              "      box-shadow: 0px 1px 3px 1px rgba(0, 0, 0, 0.15);\n",
              "      filter: drop-shadow(0px 1px 2px rgba(0, 0, 0, 0.3));\n",
              "      fill: #FFFFFF;\n",
              "    }\n",
              "  </style>\n",
              "\n",
              "    <script>\n",
              "      const buttonEl =\n",
              "        document.querySelector('#df-2987e8ac-c0fc-4266-8b45-a2f9bb444807 button.colab-df-convert');\n",
              "      buttonEl.style.display =\n",
              "        google.colab.kernel.accessAllowed ? 'block' : 'none';\n",
              "\n",
              "      async function convertToInteractive(key) {\n",
              "        const element = document.querySelector('#df-2987e8ac-c0fc-4266-8b45-a2f9bb444807');\n",
              "        const dataTable =\n",
              "          await google.colab.kernel.invokeFunction('convertToInteractive',\n",
              "                                                    [key], {});\n",
              "        if (!dataTable) return;\n",
              "\n",
              "        const docLinkHtml = 'Like what you see? Visit the ' +\n",
              "          '<a target=\"_blank\" href=https://colab.research.google.com/notebooks/data_table.ipynb>data table notebook</a>'\n",
              "          + ' to learn more about interactive tables.';\n",
              "        element.innerHTML = '';\n",
              "        dataTable['output_type'] = 'display_data';\n",
              "        await google.colab.output.renderOutput(dataTable, element);\n",
              "        const docLink = document.createElement('div');\n",
              "        docLink.innerHTML = docLinkHtml;\n",
              "        element.appendChild(docLink);\n",
              "      }\n",
              "    </script>\n",
              "  </div>\n",
              "\n",
              "\n",
              "<div id=\"df-24152e7b-b417-412d-83a5-4b2e880ec31c\">\n",
              "  <button class=\"colab-df-quickchart\" onclick=\"quickchart('df-24152e7b-b417-412d-83a5-4b2e880ec31c')\"\n",
              "            title=\"Suggest charts\"\n",
              "            style=\"display:none;\">\n",
              "\n",
              "<svg xmlns=\"http://www.w3.org/2000/svg\" height=\"24px\"viewBox=\"0 0 24 24\"\n",
              "     width=\"24px\">\n",
              "    <g>\n",
              "        <path d=\"M19 3H5c-1.1 0-2 .9-2 2v14c0 1.1.9 2 2 2h14c1.1 0 2-.9 2-2V5c0-1.1-.9-2-2-2zM9 17H7v-7h2v7zm4 0h-2V7h2v10zm4 0h-2v-4h2v4z\"/>\n",
              "    </g>\n",
              "</svg>\n",
              "  </button>\n",
              "\n",
              "<style>\n",
              "  .colab-df-quickchart {\n",
              "      --bg-color: #E8F0FE;\n",
              "      --fill-color: #1967D2;\n",
              "      --hover-bg-color: #E2EBFA;\n",
              "      --hover-fill-color: #174EA6;\n",
              "      --disabled-fill-color: #AAA;\n",
              "      --disabled-bg-color: #DDD;\n",
              "  }\n",
              "\n",
              "  [theme=dark] .colab-df-quickchart {\n",
              "      --bg-color: #3B4455;\n",
              "      --fill-color: #D2E3FC;\n",
              "      --hover-bg-color: #434B5C;\n",
              "      --hover-fill-color: #FFFFFF;\n",
              "      --disabled-bg-color: #3B4455;\n",
              "      --disabled-fill-color: #666;\n",
              "  }\n",
              "\n",
              "  .colab-df-quickchart {\n",
              "    background-color: var(--bg-color);\n",
              "    border: none;\n",
              "    border-radius: 50%;\n",
              "    cursor: pointer;\n",
              "    display: none;\n",
              "    fill: var(--fill-color);\n",
              "    height: 32px;\n",
              "    padding: 0;\n",
              "    width: 32px;\n",
              "  }\n",
              "\n",
              "  .colab-df-quickchart:hover {\n",
              "    background-color: var(--hover-bg-color);\n",
              "    box-shadow: 0 1px 2px rgba(60, 64, 67, 0.3), 0 1px 3px 1px rgba(60, 64, 67, 0.15);\n",
              "    fill: var(--button-hover-fill-color);\n",
              "  }\n",
              "\n",
              "  .colab-df-quickchart-complete:disabled,\n",
              "  .colab-df-quickchart-complete:disabled:hover {\n",
              "    background-color: var(--disabled-bg-color);\n",
              "    fill: var(--disabled-fill-color);\n",
              "    box-shadow: none;\n",
              "  }\n",
              "\n",
              "  .colab-df-spinner {\n",
              "    border: 2px solid var(--fill-color);\n",
              "    border-color: transparent;\n",
              "    border-bottom-color: var(--fill-color);\n",
              "    animation:\n",
              "      spin 1s steps(1) infinite;\n",
              "  }\n",
              "\n",
              "  @keyframes spin {\n",
              "    0% {\n",
              "      border-color: transparent;\n",
              "      border-bottom-color: var(--fill-color);\n",
              "      border-left-color: var(--fill-color);\n",
              "    }\n",
              "    20% {\n",
              "      border-color: transparent;\n",
              "      border-left-color: var(--fill-color);\n",
              "      border-top-color: var(--fill-color);\n",
              "    }\n",
              "    30% {\n",
              "      border-color: transparent;\n",
              "      border-left-color: var(--fill-color);\n",
              "      border-top-color: var(--fill-color);\n",
              "      border-right-color: var(--fill-color);\n",
              "    }\n",
              "    40% {\n",
              "      border-color: transparent;\n",
              "      border-right-color: var(--fill-color);\n",
              "      border-top-color: var(--fill-color);\n",
              "    }\n",
              "    60% {\n",
              "      border-color: transparent;\n",
              "      border-right-color: var(--fill-color);\n",
              "    }\n",
              "    80% {\n",
              "      border-color: transparent;\n",
              "      border-right-color: var(--fill-color);\n",
              "      border-bottom-color: var(--fill-color);\n",
              "    }\n",
              "    90% {\n",
              "      border-color: transparent;\n",
              "      border-bottom-color: var(--fill-color);\n",
              "    }\n",
              "  }\n",
              "</style>\n",
              "\n",
              "  <script>\n",
              "    async function quickchart(key) {\n",
              "      const quickchartButtonEl =\n",
              "        document.querySelector('#' + key + ' button');\n",
              "      quickchartButtonEl.disabled = true;  // To prevent multiple clicks.\n",
              "      quickchartButtonEl.classList.add('colab-df-spinner');\n",
              "      try {\n",
              "        const charts = await google.colab.kernel.invokeFunction(\n",
              "            'suggestCharts', [key], {});\n",
              "      } catch (error) {\n",
              "        console.error('Error during call to suggestCharts:', error);\n",
              "      }\n",
              "      quickchartButtonEl.classList.remove('colab-df-spinner');\n",
              "      quickchartButtonEl.classList.add('colab-df-quickchart-complete');\n",
              "    }\n",
              "    (() => {\n",
              "      let quickchartButtonEl =\n",
              "        document.querySelector('#df-24152e7b-b417-412d-83a5-4b2e880ec31c button');\n",
              "      quickchartButtonEl.style.display =\n",
              "        google.colab.kernel.accessAllowed ? 'block' : 'none';\n",
              "    })();\n",
              "  </script>\n",
              "</div>\n",
              "\n",
              "    </div>\n",
              "  </div>\n"
            ],
            "application/vnd.google.colaboratory.intrinsic+json": {
              "type": "dataframe",
              "variable_name": "data",
              "summary": "{\n  \"name\": \"data\",\n  \"rows\": 16404,\n  \"fields\": [\n    {\n      \"column\": \"\\ub0a0\\uc9dc\",\n      \"properties\": {\n        \"dtype\": \"number\",\n        \"std\": 8,\n        \"min\": 20241101,\n        \"max\": 20241128,\n        \"num_unique_values\": 28,\n        \"samples\": [\n          20241110,\n          20241126,\n          20241109\n        ],\n        \"semantic_type\": \"\",\n        \"description\": \"\"\n      }\n    },\n    {\n      \"column\": \"\\uc2dc\\uac04\",\n      \"properties\": {\n        \"dtype\": \"number\",\n        \"std\": 704,\n        \"min\": 0,\n        \"max\": 2355,\n        \"num_unique_values\": 196,\n        \"samples\": [\n          1625,\n          1345,\n          135\n        ],\n        \"semantic_type\": \"\",\n        \"description\": \"\"\n      }\n    },\n    {\n      \"column\": \"\\uacbd\\ub85c\\uc720\\ud615\",\n      \"properties\": {\n        \"dtype\": \"category\",\n        \"num_unique_values\": 3,\n        \"samples\": [\n          \"A\",\n          \"B\",\n          \"C\"\n        ],\n        \"semantic_type\": \"\",\n        \"description\": \"\"\n      }\n    },\n    {\n      \"column\": \"\\uc18c\\uc694\\uc2dc\\uac04\",\n      \"properties\": {\n        \"dtype\": \"number\",\n        \"std\": 7.951167560656863,\n        \"min\": 13.94874176746515,\n        \"max\": 60.95077847632572,\n        \"num_unique_values\": 16323,\n        \"samples\": [\n          23.19190641251729,\n          17.6951509313843,\n          19.04451700481932\n        ],\n        \"semantic_type\": \"\",\n        \"description\": \"\"\n      }\n    }\n  ]\n}"
            }
          },
          "metadata": {},
          "execution_count": 63
        }
      ]
    },
    {
      "cell_type": "code",
      "source": [
        "data.tail()"
      ],
      "metadata": {
        "colab": {
          "base_uri": "https://localhost:8080/",
          "height": 206
        },
        "id": "VuhmBvNZJqYw",
        "outputId": "8f620dcf-9509-4084-dea0-62450ca52927"
      },
      "execution_count": 64,
      "outputs": [
        {
          "output_type": "execute_result",
          "data": {
            "text/plain": [
              "             날짜    시간 경로유형       소요시간\n",
              "16399  20241128  2350    B  22.142643\n",
              "16400  20241128  2350    C  22.690249\n",
              "16401  20241128  2355    A  17.060813\n",
              "16402  20241128  2355    B  21.395654\n",
              "16403  20241128  2355    C  23.267316"
            ],
            "text/html": [
              "\n",
              "  <div id=\"df-be89b080-4a68-4e63-883f-78c918aff257\" class=\"colab-df-container\">\n",
              "    <div>\n",
              "<style scoped>\n",
              "    .dataframe tbody tr th:only-of-type {\n",
              "        vertical-align: middle;\n",
              "    }\n",
              "\n",
              "    .dataframe tbody tr th {\n",
              "        vertical-align: top;\n",
              "    }\n",
              "\n",
              "    .dataframe thead th {\n",
              "        text-align: right;\n",
              "    }\n",
              "</style>\n",
              "<table border=\"1\" class=\"dataframe\">\n",
              "  <thead>\n",
              "    <tr style=\"text-align: right;\">\n",
              "      <th></th>\n",
              "      <th>날짜</th>\n",
              "      <th>시간</th>\n",
              "      <th>경로유형</th>\n",
              "      <th>소요시간</th>\n",
              "    </tr>\n",
              "  </thead>\n",
              "  <tbody>\n",
              "    <tr>\n",
              "      <th>16399</th>\n",
              "      <td>20241128</td>\n",
              "      <td>2350</td>\n",
              "      <td>B</td>\n",
              "      <td>22.142643</td>\n",
              "    </tr>\n",
              "    <tr>\n",
              "      <th>16400</th>\n",
              "      <td>20241128</td>\n",
              "      <td>2350</td>\n",
              "      <td>C</td>\n",
              "      <td>22.690249</td>\n",
              "    </tr>\n",
              "    <tr>\n",
              "      <th>16401</th>\n",
              "      <td>20241128</td>\n",
              "      <td>2355</td>\n",
              "      <td>A</td>\n",
              "      <td>17.060813</td>\n",
              "    </tr>\n",
              "    <tr>\n",
              "      <th>16402</th>\n",
              "      <td>20241128</td>\n",
              "      <td>2355</td>\n",
              "      <td>B</td>\n",
              "      <td>21.395654</td>\n",
              "    </tr>\n",
              "    <tr>\n",
              "      <th>16403</th>\n",
              "      <td>20241128</td>\n",
              "      <td>2355</td>\n",
              "      <td>C</td>\n",
              "      <td>23.267316</td>\n",
              "    </tr>\n",
              "  </tbody>\n",
              "</table>\n",
              "</div>\n",
              "    <div class=\"colab-df-buttons\">\n",
              "\n",
              "  <div class=\"colab-df-container\">\n",
              "    <button class=\"colab-df-convert\" onclick=\"convertToInteractive('df-be89b080-4a68-4e63-883f-78c918aff257')\"\n",
              "            title=\"Convert this dataframe to an interactive table.\"\n",
              "            style=\"display:none;\">\n",
              "\n",
              "  <svg xmlns=\"http://www.w3.org/2000/svg\" height=\"24px\" viewBox=\"0 -960 960 960\">\n",
              "    <path d=\"M120-120v-720h720v720H120Zm60-500h600v-160H180v160Zm220 220h160v-160H400v160Zm0 220h160v-160H400v160ZM180-400h160v-160H180v160Zm440 0h160v-160H620v160ZM180-180h160v-160H180v160Zm440 0h160v-160H620v160Z\"/>\n",
              "  </svg>\n",
              "    </button>\n",
              "\n",
              "  <style>\n",
              "    .colab-df-container {\n",
              "      display:flex;\n",
              "      gap: 12px;\n",
              "    }\n",
              "\n",
              "    .colab-df-convert {\n",
              "      background-color: #E8F0FE;\n",
              "      border: none;\n",
              "      border-radius: 50%;\n",
              "      cursor: pointer;\n",
              "      display: none;\n",
              "      fill: #1967D2;\n",
              "      height: 32px;\n",
              "      padding: 0 0 0 0;\n",
              "      width: 32px;\n",
              "    }\n",
              "\n",
              "    .colab-df-convert:hover {\n",
              "      background-color: #E2EBFA;\n",
              "      box-shadow: 0px 1px 2px rgba(60, 64, 67, 0.3), 0px 1px 3px 1px rgba(60, 64, 67, 0.15);\n",
              "      fill: #174EA6;\n",
              "    }\n",
              "\n",
              "    .colab-df-buttons div {\n",
              "      margin-bottom: 4px;\n",
              "    }\n",
              "\n",
              "    [theme=dark] .colab-df-convert {\n",
              "      background-color: #3B4455;\n",
              "      fill: #D2E3FC;\n",
              "    }\n",
              "\n",
              "    [theme=dark] .colab-df-convert:hover {\n",
              "      background-color: #434B5C;\n",
              "      box-shadow: 0px 1px 3px 1px rgba(0, 0, 0, 0.15);\n",
              "      filter: drop-shadow(0px 1px 2px rgba(0, 0, 0, 0.3));\n",
              "      fill: #FFFFFF;\n",
              "    }\n",
              "  </style>\n",
              "\n",
              "    <script>\n",
              "      const buttonEl =\n",
              "        document.querySelector('#df-be89b080-4a68-4e63-883f-78c918aff257 button.colab-df-convert');\n",
              "      buttonEl.style.display =\n",
              "        google.colab.kernel.accessAllowed ? 'block' : 'none';\n",
              "\n",
              "      async function convertToInteractive(key) {\n",
              "        const element = document.querySelector('#df-be89b080-4a68-4e63-883f-78c918aff257');\n",
              "        const dataTable =\n",
              "          await google.colab.kernel.invokeFunction('convertToInteractive',\n",
              "                                                    [key], {});\n",
              "        if (!dataTable) return;\n",
              "\n",
              "        const docLinkHtml = 'Like what you see? Visit the ' +\n",
              "          '<a target=\"_blank\" href=https://colab.research.google.com/notebooks/data_table.ipynb>data table notebook</a>'\n",
              "          + ' to learn more about interactive tables.';\n",
              "        element.innerHTML = '';\n",
              "        dataTable['output_type'] = 'display_data';\n",
              "        await google.colab.output.renderOutput(dataTable, element);\n",
              "        const docLink = document.createElement('div');\n",
              "        docLink.innerHTML = docLinkHtml;\n",
              "        element.appendChild(docLink);\n",
              "      }\n",
              "    </script>\n",
              "  </div>\n",
              "\n",
              "\n",
              "<div id=\"df-5add428b-6a0c-4f1c-9955-0b0177055dc6\">\n",
              "  <button class=\"colab-df-quickchart\" onclick=\"quickchart('df-5add428b-6a0c-4f1c-9955-0b0177055dc6')\"\n",
              "            title=\"Suggest charts\"\n",
              "            style=\"display:none;\">\n",
              "\n",
              "<svg xmlns=\"http://www.w3.org/2000/svg\" height=\"24px\"viewBox=\"0 0 24 24\"\n",
              "     width=\"24px\">\n",
              "    <g>\n",
              "        <path d=\"M19 3H5c-1.1 0-2 .9-2 2v14c0 1.1.9 2 2 2h14c1.1 0 2-.9 2-2V5c0-1.1-.9-2-2-2zM9 17H7v-7h2v7zm4 0h-2V7h2v10zm4 0h-2v-4h2v4z\"/>\n",
              "    </g>\n",
              "</svg>\n",
              "  </button>\n",
              "\n",
              "<style>\n",
              "  .colab-df-quickchart {\n",
              "      --bg-color: #E8F0FE;\n",
              "      --fill-color: #1967D2;\n",
              "      --hover-bg-color: #E2EBFA;\n",
              "      --hover-fill-color: #174EA6;\n",
              "      --disabled-fill-color: #AAA;\n",
              "      --disabled-bg-color: #DDD;\n",
              "  }\n",
              "\n",
              "  [theme=dark] .colab-df-quickchart {\n",
              "      --bg-color: #3B4455;\n",
              "      --fill-color: #D2E3FC;\n",
              "      --hover-bg-color: #434B5C;\n",
              "      --hover-fill-color: #FFFFFF;\n",
              "      --disabled-bg-color: #3B4455;\n",
              "      --disabled-fill-color: #666;\n",
              "  }\n",
              "\n",
              "  .colab-df-quickchart {\n",
              "    background-color: var(--bg-color);\n",
              "    border: none;\n",
              "    border-radius: 50%;\n",
              "    cursor: pointer;\n",
              "    display: none;\n",
              "    fill: var(--fill-color);\n",
              "    height: 32px;\n",
              "    padding: 0;\n",
              "    width: 32px;\n",
              "  }\n",
              "\n",
              "  .colab-df-quickchart:hover {\n",
              "    background-color: var(--hover-bg-color);\n",
              "    box-shadow: 0 1px 2px rgba(60, 64, 67, 0.3), 0 1px 3px 1px rgba(60, 64, 67, 0.15);\n",
              "    fill: var(--button-hover-fill-color);\n",
              "  }\n",
              "\n",
              "  .colab-df-quickchart-complete:disabled,\n",
              "  .colab-df-quickchart-complete:disabled:hover {\n",
              "    background-color: var(--disabled-bg-color);\n",
              "    fill: var(--disabled-fill-color);\n",
              "    box-shadow: none;\n",
              "  }\n",
              "\n",
              "  .colab-df-spinner {\n",
              "    border: 2px solid var(--fill-color);\n",
              "    border-color: transparent;\n",
              "    border-bottom-color: var(--fill-color);\n",
              "    animation:\n",
              "      spin 1s steps(1) infinite;\n",
              "  }\n",
              "\n",
              "  @keyframes spin {\n",
              "    0% {\n",
              "      border-color: transparent;\n",
              "      border-bottom-color: var(--fill-color);\n",
              "      border-left-color: var(--fill-color);\n",
              "    }\n",
              "    20% {\n",
              "      border-color: transparent;\n",
              "      border-left-color: var(--fill-color);\n",
              "      border-top-color: var(--fill-color);\n",
              "    }\n",
              "    30% {\n",
              "      border-color: transparent;\n",
              "      border-left-color: var(--fill-color);\n",
              "      border-top-color: var(--fill-color);\n",
              "      border-right-color: var(--fill-color);\n",
              "    }\n",
              "    40% {\n",
              "      border-color: transparent;\n",
              "      border-right-color: var(--fill-color);\n",
              "      border-top-color: var(--fill-color);\n",
              "    }\n",
              "    60% {\n",
              "      border-color: transparent;\n",
              "      border-right-color: var(--fill-color);\n",
              "    }\n",
              "    80% {\n",
              "      border-color: transparent;\n",
              "      border-right-color: var(--fill-color);\n",
              "      border-bottom-color: var(--fill-color);\n",
              "    }\n",
              "    90% {\n",
              "      border-color: transparent;\n",
              "      border-bottom-color: var(--fill-color);\n",
              "    }\n",
              "  }\n",
              "</style>\n",
              "\n",
              "  <script>\n",
              "    async function quickchart(key) {\n",
              "      const quickchartButtonEl =\n",
              "        document.querySelector('#' + key + ' button');\n",
              "      quickchartButtonEl.disabled = true;  // To prevent multiple clicks.\n",
              "      quickchartButtonEl.classList.add('colab-df-spinner');\n",
              "      try {\n",
              "        const charts = await google.colab.kernel.invokeFunction(\n",
              "            'suggestCharts', [key], {});\n",
              "      } catch (error) {\n",
              "        console.error('Error during call to suggestCharts:', error);\n",
              "      }\n",
              "      quickchartButtonEl.classList.remove('colab-df-spinner');\n",
              "      quickchartButtonEl.classList.add('colab-df-quickchart-complete');\n",
              "    }\n",
              "    (() => {\n",
              "      let quickchartButtonEl =\n",
              "        document.querySelector('#df-5add428b-6a0c-4f1c-9955-0b0177055dc6 button');\n",
              "      quickchartButtonEl.style.display =\n",
              "        google.colab.kernel.accessAllowed ? 'block' : 'none';\n",
              "    })();\n",
              "  </script>\n",
              "</div>\n",
              "\n",
              "    </div>\n",
              "  </div>\n"
            ],
            "application/vnd.google.colaboratory.intrinsic+json": {
              "type": "dataframe",
              "summary": "{\n  \"name\": \"data\",\n  \"rows\": 5,\n  \"fields\": [\n    {\n      \"column\": \"\\ub0a0\\uc9dc\",\n      \"properties\": {\n        \"dtype\": \"number\",\n        \"std\": 0,\n        \"min\": 20241128,\n        \"max\": 20241128,\n        \"num_unique_values\": 1,\n        \"samples\": [\n          20241128\n        ],\n        \"semantic_type\": \"\",\n        \"description\": \"\"\n      }\n    },\n    {\n      \"column\": \"\\uc2dc\\uac04\",\n      \"properties\": {\n        \"dtype\": \"number\",\n        \"std\": 2,\n        \"min\": 2350,\n        \"max\": 2355,\n        \"num_unique_values\": 2,\n        \"samples\": [\n          2355\n        ],\n        \"semantic_type\": \"\",\n        \"description\": \"\"\n      }\n    },\n    {\n      \"column\": \"\\uacbd\\ub85c\\uc720\\ud615\",\n      \"properties\": {\n        \"dtype\": \"string\",\n        \"num_unique_values\": 3,\n        \"samples\": [\n          \"B\"\n        ],\n        \"semantic_type\": \"\",\n        \"description\": \"\"\n      }\n    },\n    {\n      \"column\": \"\\uc18c\\uc694\\uc2dc\\uac04\",\n      \"properties\": {\n        \"dtype\": \"number\",\n        \"std\": 2.4744892828885803,\n        \"min\": 17.06081268916313,\n        \"max\": 23.26731618673641,\n        \"num_unique_values\": 5,\n        \"samples\": [\n          22.69024898187882\n        ],\n        \"semantic_type\": \"\",\n        \"description\": \"\"\n      }\n    }\n  ]\n}"
            }
          },
          "metadata": {},
          "execution_count": 64
        }
      ]
    },
    {
      "cell_type": "code",
      "source": [
        "# 결측치 확인\n",
        "data.isnull().sum()"
      ],
      "metadata": {
        "colab": {
          "base_uri": "https://localhost:8080/",
          "height": 210
        },
        "id": "5oNn-7WOybvo",
        "outputId": "e41b240f-dfad-43c5-ad6e-5a41d43c6b45"
      },
      "execution_count": 65,
      "outputs": [
        {
          "output_type": "execute_result",
          "data": {
            "text/plain": [
              "날짜      0\n",
              "시간      0\n",
              "경로유형    0\n",
              "소요시간    0\n",
              "dtype: int64"
            ],
            "text/html": [
              "<div>\n",
              "<style scoped>\n",
              "    .dataframe tbody tr th:only-of-type {\n",
              "        vertical-align: middle;\n",
              "    }\n",
              "\n",
              "    .dataframe tbody tr th {\n",
              "        vertical-align: top;\n",
              "    }\n",
              "\n",
              "    .dataframe thead th {\n",
              "        text-align: right;\n",
              "    }\n",
              "</style>\n",
              "<table border=\"1\" class=\"dataframe\">\n",
              "  <thead>\n",
              "    <tr style=\"text-align: right;\">\n",
              "      <th></th>\n",
              "      <th>0</th>\n",
              "    </tr>\n",
              "  </thead>\n",
              "  <tbody>\n",
              "    <tr>\n",
              "      <th>날짜</th>\n",
              "      <td>0</td>\n",
              "    </tr>\n",
              "    <tr>\n",
              "      <th>시간</th>\n",
              "      <td>0</td>\n",
              "    </tr>\n",
              "    <tr>\n",
              "      <th>경로유형</th>\n",
              "      <td>0</td>\n",
              "    </tr>\n",
              "    <tr>\n",
              "      <th>소요시간</th>\n",
              "      <td>0</td>\n",
              "    </tr>\n",
              "  </tbody>\n",
              "</table>\n",
              "</div><br><label><b>dtype:</b> int64</label>"
            ]
          },
          "metadata": {},
          "execution_count": 65
        }
      ]
    },
    {
      "cell_type": "code",
      "source": [
        "data.info()"
      ],
      "metadata": {
        "colab": {
          "base_uri": "https://localhost:8080/"
        },
        "id": "WNEBhpFQyxCP",
        "outputId": "f0a3b6f7-53b6-4876-97db-a7c01bc8c3fd"
      },
      "execution_count": 66,
      "outputs": [
        {
          "output_type": "stream",
          "name": "stdout",
          "text": [
            "<class 'pandas.core.frame.DataFrame'>\n",
            "RangeIndex: 16404 entries, 0 to 16403\n",
            "Data columns (total 4 columns):\n",
            " #   Column  Non-Null Count  Dtype  \n",
            "---  ------  --------------  -----  \n",
            " 0   날짜      16404 non-null  int64  \n",
            " 1   시간      16404 non-null  int64  \n",
            " 2   경로유형    16404 non-null  object \n",
            " 3   소요시간    16404 non-null  float64\n",
            "dtypes: float64(1), int64(2), object(1)\n",
            "memory usage: 512.8+ KB\n"
          ]
        }
      ]
    },
    {
      "cell_type": "markdown",
      "source": [
        "시간, 날짜의 형식을 변경하고 요일 데이터를 추출하여 매핑하였다."
      ],
      "metadata": {
        "id": "5KpW-VRAMl94"
      }
    },
    {
      "cell_type": "code",
      "source": [
        "def format_time(x):\n",
        "    hour = x // 100\n",
        "    minute = x % 100\n",
        "    return f'{hour:02d}:{minute:02d}'"
      ],
      "metadata": {
        "id": "t5QNord7zyEQ"
      },
      "execution_count": 67,
      "outputs": []
    },
    {
      "cell_type": "code",
      "source": [
        "#시간을 HH:mm 형식으로 변환\n",
        "data['시간'] = data['시간'].apply(format_time)\n",
        "\n",
        "# 날짜를 datetime 형식으로 변환\n",
        "data['날짜'] = pd.to_datetime(data['날짜'], format='%Y%m%d')\n",
        "\n",
        "# 요일 추출 (월요일=0, 일요일=6) 및 매핑\n",
        "days = {0:'월', 1:'화', 2:'수', 3:'목', 4:'금', 5:'토', 6:'일'}\n",
        "data['요일'] = data['날짜'].dt.dayofweek.map(days)"
      ],
      "metadata": {
        "id": "1DS0Osm04V0-"
      },
      "execution_count": 68,
      "outputs": []
    },
    {
      "cell_type": "code",
      "source": [
        "data.head()"
      ],
      "metadata": {
        "colab": {
          "base_uri": "https://localhost:8080/",
          "height": 206
        },
        "id": "IopXKAXyMjzh",
        "outputId": "0293222c-e792-4e87-e2c7-348b42085be7"
      },
      "execution_count": 69,
      "outputs": [
        {
          "output_type": "execute_result",
          "data": {
            "text/plain": [
              "          날짜     시간 경로유형       소요시간 요일\n",
              "0 2024-11-01  00:00    A  16.310933  금\n",
              "1 2024-11-01  00:00    B  20.241982  금\n",
              "2 2024-11-01  00:00    C  22.631307  금\n",
              "3 2024-11-01  00:05    A  16.317805  금\n",
              "4 2024-11-01  00:05    B  20.703033  금"
            ],
            "text/html": [
              "\n",
              "  <div id=\"df-b97b48fa-7194-4c8a-ae55-2b2b3ab86d72\" class=\"colab-df-container\">\n",
              "    <div>\n",
              "<style scoped>\n",
              "    .dataframe tbody tr th:only-of-type {\n",
              "        vertical-align: middle;\n",
              "    }\n",
              "\n",
              "    .dataframe tbody tr th {\n",
              "        vertical-align: top;\n",
              "    }\n",
              "\n",
              "    .dataframe thead th {\n",
              "        text-align: right;\n",
              "    }\n",
              "</style>\n",
              "<table border=\"1\" class=\"dataframe\">\n",
              "  <thead>\n",
              "    <tr style=\"text-align: right;\">\n",
              "      <th></th>\n",
              "      <th>날짜</th>\n",
              "      <th>시간</th>\n",
              "      <th>경로유형</th>\n",
              "      <th>소요시간</th>\n",
              "      <th>요일</th>\n",
              "    </tr>\n",
              "  </thead>\n",
              "  <tbody>\n",
              "    <tr>\n",
              "      <th>0</th>\n",
              "      <td>2024-11-01</td>\n",
              "      <td>00:00</td>\n",
              "      <td>A</td>\n",
              "      <td>16.310933</td>\n",
              "      <td>금</td>\n",
              "    </tr>\n",
              "    <tr>\n",
              "      <th>1</th>\n",
              "      <td>2024-11-01</td>\n",
              "      <td>00:00</td>\n",
              "      <td>B</td>\n",
              "      <td>20.241982</td>\n",
              "      <td>금</td>\n",
              "    </tr>\n",
              "    <tr>\n",
              "      <th>2</th>\n",
              "      <td>2024-11-01</td>\n",
              "      <td>00:00</td>\n",
              "      <td>C</td>\n",
              "      <td>22.631307</td>\n",
              "      <td>금</td>\n",
              "    </tr>\n",
              "    <tr>\n",
              "      <th>3</th>\n",
              "      <td>2024-11-01</td>\n",
              "      <td>00:05</td>\n",
              "      <td>A</td>\n",
              "      <td>16.317805</td>\n",
              "      <td>금</td>\n",
              "    </tr>\n",
              "    <tr>\n",
              "      <th>4</th>\n",
              "      <td>2024-11-01</td>\n",
              "      <td>00:05</td>\n",
              "      <td>B</td>\n",
              "      <td>20.703033</td>\n",
              "      <td>금</td>\n",
              "    </tr>\n",
              "  </tbody>\n",
              "</table>\n",
              "</div>\n",
              "    <div class=\"colab-df-buttons\">\n",
              "\n",
              "  <div class=\"colab-df-container\">\n",
              "    <button class=\"colab-df-convert\" onclick=\"convertToInteractive('df-b97b48fa-7194-4c8a-ae55-2b2b3ab86d72')\"\n",
              "            title=\"Convert this dataframe to an interactive table.\"\n",
              "            style=\"display:none;\">\n",
              "\n",
              "  <svg xmlns=\"http://www.w3.org/2000/svg\" height=\"24px\" viewBox=\"0 -960 960 960\">\n",
              "    <path d=\"M120-120v-720h720v720H120Zm60-500h600v-160H180v160Zm220 220h160v-160H400v160Zm0 220h160v-160H400v160ZM180-400h160v-160H180v160Zm440 0h160v-160H620v160ZM180-180h160v-160H180v160Zm440 0h160v-160H620v160Z\"/>\n",
              "  </svg>\n",
              "    </button>\n",
              "\n",
              "  <style>\n",
              "    .colab-df-container {\n",
              "      display:flex;\n",
              "      gap: 12px;\n",
              "    }\n",
              "\n",
              "    .colab-df-convert {\n",
              "      background-color: #E8F0FE;\n",
              "      border: none;\n",
              "      border-radius: 50%;\n",
              "      cursor: pointer;\n",
              "      display: none;\n",
              "      fill: #1967D2;\n",
              "      height: 32px;\n",
              "      padding: 0 0 0 0;\n",
              "      width: 32px;\n",
              "    }\n",
              "\n",
              "    .colab-df-convert:hover {\n",
              "      background-color: #E2EBFA;\n",
              "      box-shadow: 0px 1px 2px rgba(60, 64, 67, 0.3), 0px 1px 3px 1px rgba(60, 64, 67, 0.15);\n",
              "      fill: #174EA6;\n",
              "    }\n",
              "\n",
              "    .colab-df-buttons div {\n",
              "      margin-bottom: 4px;\n",
              "    }\n",
              "\n",
              "    [theme=dark] .colab-df-convert {\n",
              "      background-color: #3B4455;\n",
              "      fill: #D2E3FC;\n",
              "    }\n",
              "\n",
              "    [theme=dark] .colab-df-convert:hover {\n",
              "      background-color: #434B5C;\n",
              "      box-shadow: 0px 1px 3px 1px rgba(0, 0, 0, 0.15);\n",
              "      filter: drop-shadow(0px 1px 2px rgba(0, 0, 0, 0.3));\n",
              "      fill: #FFFFFF;\n",
              "    }\n",
              "  </style>\n",
              "\n",
              "    <script>\n",
              "      const buttonEl =\n",
              "        document.querySelector('#df-b97b48fa-7194-4c8a-ae55-2b2b3ab86d72 button.colab-df-convert');\n",
              "      buttonEl.style.display =\n",
              "        google.colab.kernel.accessAllowed ? 'block' : 'none';\n",
              "\n",
              "      async function convertToInteractive(key) {\n",
              "        const element = document.querySelector('#df-b97b48fa-7194-4c8a-ae55-2b2b3ab86d72');\n",
              "        const dataTable =\n",
              "          await google.colab.kernel.invokeFunction('convertToInteractive',\n",
              "                                                    [key], {});\n",
              "        if (!dataTable) return;\n",
              "\n",
              "        const docLinkHtml = 'Like what you see? Visit the ' +\n",
              "          '<a target=\"_blank\" href=https://colab.research.google.com/notebooks/data_table.ipynb>data table notebook</a>'\n",
              "          + ' to learn more about interactive tables.';\n",
              "        element.innerHTML = '';\n",
              "        dataTable['output_type'] = 'display_data';\n",
              "        await google.colab.output.renderOutput(dataTable, element);\n",
              "        const docLink = document.createElement('div');\n",
              "        docLink.innerHTML = docLinkHtml;\n",
              "        element.appendChild(docLink);\n",
              "      }\n",
              "    </script>\n",
              "  </div>\n",
              "\n",
              "\n",
              "<div id=\"df-9b1f66ff-74a1-456c-b051-32fee4f18d2f\">\n",
              "  <button class=\"colab-df-quickchart\" onclick=\"quickchart('df-9b1f66ff-74a1-456c-b051-32fee4f18d2f')\"\n",
              "            title=\"Suggest charts\"\n",
              "            style=\"display:none;\">\n",
              "\n",
              "<svg xmlns=\"http://www.w3.org/2000/svg\" height=\"24px\"viewBox=\"0 0 24 24\"\n",
              "     width=\"24px\">\n",
              "    <g>\n",
              "        <path d=\"M19 3H5c-1.1 0-2 .9-2 2v14c0 1.1.9 2 2 2h14c1.1 0 2-.9 2-2V5c0-1.1-.9-2-2-2zM9 17H7v-7h2v7zm4 0h-2V7h2v10zm4 0h-2v-4h2v4z\"/>\n",
              "    </g>\n",
              "</svg>\n",
              "  </button>\n",
              "\n",
              "<style>\n",
              "  .colab-df-quickchart {\n",
              "      --bg-color: #E8F0FE;\n",
              "      --fill-color: #1967D2;\n",
              "      --hover-bg-color: #E2EBFA;\n",
              "      --hover-fill-color: #174EA6;\n",
              "      --disabled-fill-color: #AAA;\n",
              "      --disabled-bg-color: #DDD;\n",
              "  }\n",
              "\n",
              "  [theme=dark] .colab-df-quickchart {\n",
              "      --bg-color: #3B4455;\n",
              "      --fill-color: #D2E3FC;\n",
              "      --hover-bg-color: #434B5C;\n",
              "      --hover-fill-color: #FFFFFF;\n",
              "      --disabled-bg-color: #3B4455;\n",
              "      --disabled-fill-color: #666;\n",
              "  }\n",
              "\n",
              "  .colab-df-quickchart {\n",
              "    background-color: var(--bg-color);\n",
              "    border: none;\n",
              "    border-radius: 50%;\n",
              "    cursor: pointer;\n",
              "    display: none;\n",
              "    fill: var(--fill-color);\n",
              "    height: 32px;\n",
              "    padding: 0;\n",
              "    width: 32px;\n",
              "  }\n",
              "\n",
              "  .colab-df-quickchart:hover {\n",
              "    background-color: var(--hover-bg-color);\n",
              "    box-shadow: 0 1px 2px rgba(60, 64, 67, 0.3), 0 1px 3px 1px rgba(60, 64, 67, 0.15);\n",
              "    fill: var(--button-hover-fill-color);\n",
              "  }\n",
              "\n",
              "  .colab-df-quickchart-complete:disabled,\n",
              "  .colab-df-quickchart-complete:disabled:hover {\n",
              "    background-color: var(--disabled-bg-color);\n",
              "    fill: var(--disabled-fill-color);\n",
              "    box-shadow: none;\n",
              "  }\n",
              "\n",
              "  .colab-df-spinner {\n",
              "    border: 2px solid var(--fill-color);\n",
              "    border-color: transparent;\n",
              "    border-bottom-color: var(--fill-color);\n",
              "    animation:\n",
              "      spin 1s steps(1) infinite;\n",
              "  }\n",
              "\n",
              "  @keyframes spin {\n",
              "    0% {\n",
              "      border-color: transparent;\n",
              "      border-bottom-color: var(--fill-color);\n",
              "      border-left-color: var(--fill-color);\n",
              "    }\n",
              "    20% {\n",
              "      border-color: transparent;\n",
              "      border-left-color: var(--fill-color);\n",
              "      border-top-color: var(--fill-color);\n",
              "    }\n",
              "    30% {\n",
              "      border-color: transparent;\n",
              "      border-left-color: var(--fill-color);\n",
              "      border-top-color: var(--fill-color);\n",
              "      border-right-color: var(--fill-color);\n",
              "    }\n",
              "    40% {\n",
              "      border-color: transparent;\n",
              "      border-right-color: var(--fill-color);\n",
              "      border-top-color: var(--fill-color);\n",
              "    }\n",
              "    60% {\n",
              "      border-color: transparent;\n",
              "      border-right-color: var(--fill-color);\n",
              "    }\n",
              "    80% {\n",
              "      border-color: transparent;\n",
              "      border-right-color: var(--fill-color);\n",
              "      border-bottom-color: var(--fill-color);\n",
              "    }\n",
              "    90% {\n",
              "      border-color: transparent;\n",
              "      border-bottom-color: var(--fill-color);\n",
              "    }\n",
              "  }\n",
              "</style>\n",
              "\n",
              "  <script>\n",
              "    async function quickchart(key) {\n",
              "      const quickchartButtonEl =\n",
              "        document.querySelector('#' + key + ' button');\n",
              "      quickchartButtonEl.disabled = true;  // To prevent multiple clicks.\n",
              "      quickchartButtonEl.classList.add('colab-df-spinner');\n",
              "      try {\n",
              "        const charts = await google.colab.kernel.invokeFunction(\n",
              "            'suggestCharts', [key], {});\n",
              "      } catch (error) {\n",
              "        console.error('Error during call to suggestCharts:', error);\n",
              "      }\n",
              "      quickchartButtonEl.classList.remove('colab-df-spinner');\n",
              "      quickchartButtonEl.classList.add('colab-df-quickchart-complete');\n",
              "    }\n",
              "    (() => {\n",
              "      let quickchartButtonEl =\n",
              "        document.querySelector('#df-9b1f66ff-74a1-456c-b051-32fee4f18d2f button');\n",
              "      quickchartButtonEl.style.display =\n",
              "        google.colab.kernel.accessAllowed ? 'block' : 'none';\n",
              "    })();\n",
              "  </script>\n",
              "</div>\n",
              "\n",
              "    </div>\n",
              "  </div>\n"
            ],
            "application/vnd.google.colaboratory.intrinsic+json": {
              "type": "dataframe",
              "variable_name": "data",
              "summary": "{\n  \"name\": \"data\",\n  \"rows\": 16404,\n  \"fields\": [\n    {\n      \"column\": \"\\ub0a0\\uc9dc\",\n      \"properties\": {\n        \"dtype\": \"date\",\n        \"min\": \"2024-11-01 00:00:00\",\n        \"max\": \"2024-11-28 00:00:00\",\n        \"num_unique_values\": 28,\n        \"samples\": [\n          \"2024-11-10 00:00:00\",\n          \"2024-11-26 00:00:00\",\n          \"2024-11-09 00:00:00\"\n        ],\n        \"semantic_type\": \"\",\n        \"description\": \"\"\n      }\n    },\n    {\n      \"column\": \"\\uc2dc\\uac04\",\n      \"properties\": {\n        \"dtype\": \"object\",\n        \"num_unique_values\": 196,\n        \"samples\": [\n          \"16:25\",\n          \"13:45\",\n          \"01:35\"\n        ],\n        \"semantic_type\": \"\",\n        \"description\": \"\"\n      }\n    },\n    {\n      \"column\": \"\\uacbd\\ub85c\\uc720\\ud615\",\n      \"properties\": {\n        \"dtype\": \"category\",\n        \"num_unique_values\": 3,\n        \"samples\": [\n          \"A\",\n          \"B\",\n          \"C\"\n        ],\n        \"semantic_type\": \"\",\n        \"description\": \"\"\n      }\n    },\n    {\n      \"column\": \"\\uc18c\\uc694\\uc2dc\\uac04\",\n      \"properties\": {\n        \"dtype\": \"number\",\n        \"std\": 7.951167560656863,\n        \"min\": 13.94874176746515,\n        \"max\": 60.95077847632572,\n        \"num_unique_values\": 16323,\n        \"samples\": [\n          23.19190641251729,\n          17.6951509313843,\n          19.04451700481932\n        ],\n        \"semantic_type\": \"\",\n        \"description\": \"\"\n      }\n    },\n    {\n      \"column\": \"\\uc694\\uc77c\",\n      \"properties\": {\n        \"dtype\": \"category\",\n        \"num_unique_values\": 7,\n        \"samples\": [\n          \"\\uae08\",\n          \"\\ud1a0\",\n          \"\\uc218\"\n        ],\n        \"semantic_type\": \"\",\n        \"description\": \"\"\n      }\n    }\n  ]\n}"
            }
          },
          "metadata": {},
          "execution_count": 69
        }
      ]
    },
    {
      "cell_type": "markdown",
      "source": [
        "## STEP 3. Visualization"
      ],
      "metadata": {
        "id": "3Qs-0LwIz97N"
      }
    },
    {
      "cell_type": "markdown",
      "source": [
        "### 경로 유형별 소요시간 분포"
      ],
      "metadata": {
        "id": "bd9wgz7ROklH"
      }
    },
    {
      "cell_type": "markdown",
      "source": [
        "*    **경로 A**: 일부 데이터는 평균보다 훨씬 더 긴 시간이 소요되었음을 확인 할 수 있다. 다른 경로보다 이상치가 더 많이 분포하며, 이상치의 범위가 넓다. 소요 시간의 변동성이 다른 경로들 보다 크다는 것을 확인할 수 있다. 경로 A의 특정 조건 또는 시간대에 교통 정체나 다른 변수가 소요 시간에 크게 영향을 미칠 수 있음을 의미한다.\n",
        "*   **경로 B**: 경로 B 역시 비슷한 중앙값을 보이지만, 소요 시간이 20분에서 40분 사이에 집중되어 있으나, 50분 이상 소요되는 경우도 관찰된다.\n",
        "*   **경로 C**: 비교적 이상치가 적고 소요 시간의 분포가 다른 두 경로에 비해 안정적이다. 소요 시간은 대체로 20분에서 40분 사이에 집중되어 있다."
      ],
      "metadata": {
        "id": "lrTxP1SZOpOM"
      }
    },
    {
      "cell_type": "code",
      "source": [
        "plt.figure(figsize=(12, 6))\n",
        "sns.boxplot(x='경로유형', y='소요시간', data=data)\n",
        "plt.title('경로 유형별 소요 시간 분포')\n",
        "plt.xlabel('경로 유형')\n",
        "plt.ylabel('소요 시간')\n",
        "plt.show()"
      ],
      "metadata": {
        "colab": {
          "base_uri": "https://localhost:8080/",
          "height": 563
        },
        "id": "uQ8e3Rixy1Ah",
        "outputId": "0f52043f-dd2b-4a74-de07-7c1a423a2d3b"
      },
      "execution_count": 70,
      "outputs": [
        {
          "output_type": "display_data",
          "data": {
            "text/plain": [
              "<Figure size 1200x600 with 1 Axes>"
            ],
            "image/png": "[encoded data removed]"
          },
          "metadata": {}
        }
      ]
    },
    {
      "cell_type": "markdown",
      "source": [
        "### 요일별 소요시간 분포"
      ],
      "metadata": {
        "id": "32sp1zU6SoMz"
      }
    },
    {
      "cell_type": "markdown",
      "source": [
        "**1. 이상치**\n",
        "\n",
        "토요일에 소요 시간의 이상치가 가장 적게 나타나고 있다.\n",
        "월요일, 화요일, 목요일에 이상치의 수가 비교적 많으며, 금요일의 최대치가 가장 높은 값을 나타낸다.\n",
        "\n",
        "\n",
        "**2. 중앙값**\n",
        "\n",
        "모든 요일의 중앙값은 대체로 30분 내외로 안정적이다. 일요일의 중앙값이 가장 낮으며, 화요일과 금요일이 상대적으로 높다.\n",
        "\n",
        "**3. 박스의 크기**\n",
        "\n",
        "일요일은 박스의 크기가 가장 작아, 데이터의 분산이 가장 적은 것을 확인 할 수 있다. 즉, 일요일의 소요 시간이 다른 요일에 비해 일관적이다.\n",
        "반면, 금요일은 박스의 크기가 크므로 소요 시간의 분산이 커, 다른 요일에 비해 소요시간이 일관적이지 않다.\n",
        "\n",
        "**4. 수염**\n",
        "\n",
        "금요일의 수염이 상대적으로 길게 나타나고 있어, 소요 시간이 상위 및 하위 범위에서 넓게 분포하고 있음을 확인 할 수 있다."
      ],
      "metadata": {
        "id": "-E9AUiIeSqna"
      }
    },
    {
      "cell_type": "code",
      "source": [
        "day_order = ['월', '화', '수', '목', '금', '토', '일']\n",
        "data['요일'] = pd.Categorical(data['요일'], categories=day_order, ordered=True)\n",
        "\n",
        "plt.figure(figsize=(10, 6))\n",
        "sns.boxplot(x='요일', y='소요시간', data=data)\n",
        "plt.title('요일별 소요 시간 분포')\n",
        "plt.xlabel('요일')\n",
        "plt.ylabel('소요 시간')\n",
        "plt.show()"
      ],
      "metadata": {
        "colab": {
          "base_uri": "https://localhost:8080/",
          "height": 563
        },
        "id": "rRfJ8N8J44nW",
        "outputId": "8f71b8fa-9013-446b-8e7a-bbffc27a684b"
      },
      "execution_count": 71,
      "outputs": [
        {
          "output_type": "display_data",
          "data": {
            "text/plain": [
              "<Figure size 1000x600 with 1 Axes>"
            ],
            "image/png": "[encoded data removed]"
          },
          "metadata": {}
        }
      ]
    },
    {
      "cell_type": "markdown",
      "source": [
        "### 시간대별 소요시간 분포"
      ],
      "metadata": {
        "id": "stj7pOtVUauE"
      }
    },
    {
      "cell_type": "markdown",
      "source": [
        "**1. 시간대별 변동성**\n",
        "\n",
        "오전 시간대(특히 05:00에서 10:00 사이)와 늦은 오후와 저녁 시간대(특히 15:00에서 19:00 사이)에 소요 시간의 변동성이 크게 증가하고있다. 이는 출근 시간과 퇴근 시간에 교통량이 많아져 소요 시간이 늘어나는 것을 의미한다.\n",
        "\n",
        "**2. 소요 시간의 분포**\n",
        "\n",
        "밤 시간대는 소요 시간의 중앙값이 상대적으로 낮고, 분포도 좁은 편이다. 이는 밤 시간에는 도로가 비교적 원활하다는 것을 의미한다.\n",
        "오전과 오후 시간대에는 소요 시간의 중앙값이 높고, 분포의 폭도 넓다. 특히 이상치의 수가 많아지며, 소요 시간이 예상보다 훨씬 높게 나타나는 경우가 많다.\n",
        "\n",
        "**3. 이상치의 분포**\n",
        "\n",
        "이상치는 주로 출근 시간대와 늦은 오후, 퇴근 시간대에 집중적으로 나타난다. 이는 일부 날들에 교통 사고나 특별한 사건으로 인해 평소보다 훨씬 많은 시간이 소요되었음을 의미한다.\n",
        "\n",
        "**4. 전반적인 추세**\n",
        "\n",
        "소요 시간은 전반적으로 오전에 서서히 증가하기 시작하여 오후에 최고점에 도달한 뒤 저녁에 다시 감소하는 추세를 보인다. 이 패턴은 출퇴근 시간의 영향을 잘 보여주고 있다."
      ],
      "metadata": {
        "id": "jjnzl1fEUdBj"
      }
    },
    {
      "cell_type": "code",
      "source": [
        "plt.figure(figsize=(12, 6))\n",
        "sns.boxplot(x='시간', y='소요시간', data=data)\n",
        "plt.title('시간대별 소요 시간 분포')\n",
        "plt.xlabel('시간대')\n",
        "plt.ylabel('소요 시간')\n",
        "\n",
        "# x축 라벨 각도 조정 및 라벨 간격 조정\n",
        "plt.xticks(rotation=45)\n",
        "ax = plt.gca()\n",
        "labels = ax.get_xticklabels()\n",
        "\n",
        "# x축 라벨을 매 4개마다만 표시\n",
        "ax.set_xticks(ax.get_xticks()[::4])\n",
        "ax.set_xticklabels([label.get_text() for label in labels][::4])\n",
        "\n",
        "plt.show()"
      ],
      "metadata": {
        "colab": {
          "base_uri": "https://localhost:8080/",
          "height": 585
        },
        "id": "DngHc4l345Gk",
        "outputId": "e454a8da-0dce-443e-b9cd-4b7a6f492576"
      },
      "execution_count": 72,
      "outputs": [
        {
          "output_type": "display_data",
          "data": {
            "text/plain": [
              "<Figure size 1200x600 with 1 Axes>"
            ],
            "image/png": "[encoded data removed]"
          },
          "metadata": {}
        }
      ]
    },
    {
      "cell_type": "markdown",
      "source": [
        "### 출퇴근 시간대별 소요 시간 분포"
      ],
      "metadata": {
        "id": "AlDtoq2GXk4I"
      }
    },
    {
      "cell_type": "markdown",
      "source": [
        "**1. 출근 시간:**\n",
        "\n",
        "몇몇 이상치가 상위에 존재한다. 이는 특정 날에 교통 체증이나 다른 요인으로 인해 평소보다 훨씬 긴 소요 시간이 발생했음을 나타낸다.\n",
        "\n",
        "**2. 비출퇴근 시간:**\n",
        "\n",
        "상대적으로 이상치가 더 많이 관찰되고, 상대적으로 넓게 퍼져 있다. 이는 출퇴근시간대에 비해 긴 시간대의 데이터 분포이기에 넓은 분포와 이상치를 나타내는 것으로 예상해볼 수 있다.\n",
        "\n",
        "**3. 퇴근 시간:**\n",
        "\n",
        "소요 시간의 중앙값이 가장 높고, 박스의 크기가 가장 작아 전반적으로 소요 시간이 가장 길고 일관된 경향을 보인다."
      ],
      "metadata": {
        "id": "udh42HBxYbp8"
      }
    },
    {
      "cell_type": "code",
      "source": [
        "data['시간'] = pd.to_datetime(data['시간'], format='%H:%M').dt.time\n",
        "\n",
        "# 출근 시간과 퇴근 시간 정의\n",
        "출근시간_시작 = pd.Timestamp('07:00').time()\n",
        "출근시간_종료 = pd.Timestamp('09:59').time()\n",
        "퇴근시간_시작 = pd.Timestamp('17:00').time()\n",
        "퇴근시간_종료 = pd.Timestamp('19:59').time()\n",
        "\n",
        "# 시간대 분류\n",
        "data['시간대'] = data['시간'].apply(\n",
        "    lambda x: '출근 시간' if 출근시간_시작 <= x <= 출근시간_종료\n",
        "    else ('퇴근 시간' if 퇴근시간_시작 <= x <= 퇴근시간_종료 else '비출퇴근 시간')\n",
        ")\n",
        "\n",
        "plt.figure(figsize=(10, 6))\n",
        "sns.boxplot(x='시간대', y='소요시간', data=data, order=['출근 시간', '비출퇴근 시간', '퇴근 시간'])\n",
        "plt.title('출퇴근 시간대별 소요 시간 분포')\n",
        "plt.xlabel('시간대')\n",
        "plt.ylabel('소요 시간')\n",
        "plt.show()"
      ],
      "metadata": {
        "colab": {
          "base_uri": "https://localhost:8080/",
          "height": 563
        },
        "id": "zcRrED76WFdm",
        "outputId": "478b0a42-14d6-45fc-ff5a-4bfd058fd045"
      },
      "execution_count": 73,
      "outputs": [
        {
          "output_type": "display_data",
          "data": {
            "text/plain": [
              "<Figure size 1000x600 with 1 Axes>"
            ],
            "image/png": "[encoded data removed]"
          },
          "metadata": {}
        }
      ]
    },
    {
      "cell_type": "markdown",
      "source": [
        "### 요일별 출퇴근 소요 시간 분포"
      ],
      "metadata": {
        "id": "9Y0tQBZOaso-"
      }
    },
    {
      "cell_type": "markdown",
      "source": [
        "비교적 월요일 부터 금요일 까지(평일)에는 일관된 출퇴근 소요시간 분포를 보인다.\n",
        "\n",
        "월요일과 금요일에 출퇴근 소요시간 최대값이 가장 큰 값을 가지는 것으로 나타난다."
      ],
      "metadata": {
        "id": "c_R5GWyYa1TK"
      }
    },
    {
      "cell_type": "code",
      "source": [
        "# 출근 시간 정의\n",
        "출근시간_시작 = pd.Timestamp('07:00').time()\n",
        "출근시간_종료 = pd.Timestamp('09:59').time()\n",
        "\n",
        "# 요일별 출근 시간대 데이터 필터링\n",
        "출근시간_데이터 = data[(data['시간'] >= 출근시간_시작) & (data['시간'] <= 출근시간_종료)]\n",
        "\n",
        "plt.figure(figsize=(10, 6))\n",
        "sns.boxplot(x='요일', y='소요시간', data=출근시간_데이터)\n",
        "plt.title('요일별 출근 소요 시간 분포')\n",
        "plt.xlabel('요일')\n",
        "plt.ylabel('소요 시간')\n",
        "plt.show()"
      ],
      "metadata": {
        "colab": {
          "base_uri": "https://localhost:8080/",
          "height": 563
        },
        "id": "PfgJDx_BWhOB",
        "outputId": "6f8e75d0-ec64-448c-dd7f-ac8cab4068b2"
      },
      "execution_count": 74,
      "outputs": [
        {
          "output_type": "display_data",
          "data": {
            "text/plain": [
              "<Figure size 1000x600 with 1 Axes>"
            ],
            "image/png": "[encoded data removed]"
          },
          "metadata": {}
        }
      ]
    },
    {
      "cell_type": "code",
      "source": [
        "# 퇴근 시간 정의\n",
        "퇴근시간_시작 = pd.Timestamp('07:00').time()\n",
        "퇴근시간_종료 = pd.Timestamp('09:59').time()\n",
        "\n",
        "# 요일별 퇴근 시간대 데이터 필터링\n",
        "퇴근시간_데이터 = data[(data['시간'] >= 퇴근시간_시작) & (data['시간'] <= 퇴근시간_종료)]\n",
        "\n",
        "plt.figure(figsize=(10, 6))\n",
        "sns.boxplot(x='요일', y='소요시간', data=퇴근시간_데이터)\n",
        "plt.title('요일별 퇴근 소요 시간 분포')\n",
        "plt.xlabel('요일')\n",
        "plt.ylabel('소요 시간')\n",
        "plt.show()"
      ],
      "metadata": {
        "colab": {
          "base_uri": "https://localhost:8080/",
          "height": 563
        },
        "id": "kvLwtXYvanx1",
        "outputId": "43578c94-53d8-424e-f9c2-5e61b02dd2de"
      },
      "execution_count": 75,
      "outputs": [
        {
          "output_type": "display_data",
          "data": {
            "text/plain": [
              "<Figure size 1000x600 with 1 Axes>"
            ],
            "image/png": "[encoded data removed]"
          },
          "metadata": {}
        }
      ]
    },
    {
      "cell_type": "markdown",
      "source": [
        "### 경로 유형과 요일의 관련성 분석"
      ],
      "metadata": {
        "id": "FUX5kBvodE6M"
      }
    },
    {
      "cell_type": "code",
      "source": [
        "plt.figure(figsize=(12, 6))\n",
        "sns.boxplot(x='요일', y='소요시간', hue='경로유형', data=data)\n",
        "plt.title('경로 유형과 요일의 관련성 분석')\n",
        "plt.xlabel('요일')\n",
        "plt.ylabel('소요 시간')\n",
        "plt.show()"
      ],
      "metadata": {
        "colab": {
          "base_uri": "https://localhost:8080/",
          "height": 563
        },
        "id": "b3gV9PK7bc4U",
        "outputId": "375d08ce-b281-4c0b-d3fb-c8456de7b359"
      },
      "execution_count": 76,
      "outputs": [
        {
          "output_type": "display_data",
          "data": {
            "text/plain": [
              "<Figure size 1200x600 with 1 Axes>"
            ],
            "image/png": "[encoded data removed]"
          },
          "metadata": {}
        }
      ]
    }
  ]
}